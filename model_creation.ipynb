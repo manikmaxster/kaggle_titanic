{
 "cells": [
  {
   "cell_type": "code",
   "execution_count": 1,
   "metadata": {},
   "outputs": [],
   "source": [
    "import pandas as pd\n",
    "import numpy as np"
   ]
  },
  {
   "cell_type": "code",
   "execution_count": 2,
   "metadata": {},
   "outputs": [
    {
     "data": {
      "text/html": [
       "<div>\n",
       "<style scoped>\n",
       "    .dataframe tbody tr th:only-of-type {\n",
       "        vertical-align: middle;\n",
       "    }\n",
       "\n",
       "    .dataframe tbody tr th {\n",
       "        vertical-align: top;\n",
       "    }\n",
       "\n",
       "    .dataframe thead th {\n",
       "        text-align: right;\n",
       "    }\n",
       "</style>\n",
       "<table border=\"1\" class=\"dataframe\">\n",
       "  <thead>\n",
       "    <tr style=\"text-align: right;\">\n",
       "      <th></th>\n",
       "      <th>Survived</th>\n",
       "      <th>male</th>\n",
       "      <th>female</th>\n",
       "      <th>first_class</th>\n",
       "      <th>second_class</th>\n",
       "      <th>third_class</th>\n",
       "      <th>S</th>\n",
       "      <th>C</th>\n",
       "      <th>Q</th>\n",
       "      <th>norm_age</th>\n",
       "      <th>norm_sib_sp</th>\n",
       "      <th>norm_fare</th>\n",
       "      <th>norm_parch</th>\n",
       "    </tr>\n",
       "  </thead>\n",
       "  <tbody>\n",
       "    <tr>\n",
       "      <th>0</th>\n",
       "      <td>0</td>\n",
       "      <td>1</td>\n",
       "      <td>0</td>\n",
       "      <td>0</td>\n",
       "      <td>0</td>\n",
       "      <td>1</td>\n",
       "      <td>1</td>\n",
       "      <td>0</td>\n",
       "      <td>0</td>\n",
       "      <td>0.304501</td>\n",
       "      <td>0.787623</td>\n",
       "      <td>0.071027</td>\n",
       "      <td>0.0</td>\n",
       "    </tr>\n",
       "    <tr>\n",
       "      <th>1</th>\n",
       "      <td>1</td>\n",
       "      <td>0</td>\n",
       "      <td>1</td>\n",
       "      <td>1</td>\n",
       "      <td>0</td>\n",
       "      <td>0</td>\n",
       "      <td>0</td>\n",
       "      <td>1</td>\n",
       "      <td>0</td>\n",
       "      <td>0.746132</td>\n",
       "      <td>0.787623</td>\n",
       "      <td>0.870605</td>\n",
       "      <td>0.0</td>\n",
       "    </tr>\n",
       "    <tr>\n",
       "      <th>2</th>\n",
       "      <td>1</td>\n",
       "      <td>0</td>\n",
       "      <td>1</td>\n",
       "      <td>0</td>\n",
       "      <td>0</td>\n",
       "      <td>1</td>\n",
       "      <td>1</td>\n",
       "      <td>0</td>\n",
       "      <td>0</td>\n",
       "      <td>0.434599</td>\n",
       "      <td>0.000000</td>\n",
       "      <td>0.213080</td>\n",
       "      <td>0.0</td>\n",
       "    </tr>\n",
       "    <tr>\n",
       "      <th>3</th>\n",
       "      <td>1</td>\n",
       "      <td>0</td>\n",
       "      <td>1</td>\n",
       "      <td>1</td>\n",
       "      <td>0</td>\n",
       "      <td>0</td>\n",
       "      <td>1</td>\n",
       "      <td>0</td>\n",
       "      <td>0</td>\n",
       "      <td>0.684951</td>\n",
       "      <td>0.787623</td>\n",
       "      <td>0.828411</td>\n",
       "      <td>0.0</td>\n",
       "    </tr>\n",
       "    <tr>\n",
       "      <th>4</th>\n",
       "      <td>0</td>\n",
       "      <td>1</td>\n",
       "      <td>0</td>\n",
       "      <td>0</td>\n",
       "      <td>0</td>\n",
       "      <td>1</td>\n",
       "      <td>1</td>\n",
       "      <td>0</td>\n",
       "      <td>0</td>\n",
       "      <td>0.684951</td>\n",
       "      <td>0.000000</td>\n",
       "      <td>0.246835</td>\n",
       "      <td>0.0</td>\n",
       "    </tr>\n",
       "  </tbody>\n",
       "</table>\n",
       "</div>"
      ],
      "text/plain": [
       "   Survived  male  female  first_class  second_class  third_class  S  C  Q  \\\n",
       "0         0     1       0            0             0            1  1  0  0   \n",
       "1         1     0       1            1             0            0  0  1  0   \n",
       "2         1     0       1            0             0            1  1  0  0   \n",
       "3         1     0       1            1             0            0  1  0  0   \n",
       "4         0     1       0            0             0            1  1  0  0   \n",
       "\n",
       "   norm_age  norm_sib_sp  norm_fare  norm_parch  \n",
       "0  0.304501     0.787623   0.071027         0.0  \n",
       "1  0.746132     0.787623   0.870605         0.0  \n",
       "2  0.434599     0.000000   0.213080         0.0  \n",
       "3  0.684951     0.787623   0.828411         0.0  \n",
       "4  0.684951     0.000000   0.246835         0.0  "
      ]
     },
     "execution_count": 2,
     "metadata": {},
     "output_type": "execute_result"
    }
   ],
   "source": [
    "df = pd.read_csv('data/sanitized_input.csv')\n",
    "df.head()"
   ]
  },
  {
   "cell_type": "code",
   "execution_count": 3,
   "metadata": {},
   "outputs": [
    {
     "data": {
      "text/plain": [
       "Index(['Survived', 'male', 'female', 'first_class', 'second_class',\n",
       "       'third_class', 'S', 'C', 'Q', 'norm_age', 'norm_sib_sp', 'norm_fare',\n",
       "       'norm_parch'],\n",
       "      dtype='object')"
      ]
     },
     "execution_count": 3,
     "metadata": {},
     "output_type": "execute_result"
    }
   ],
   "source": [
    "df.columns"
   ]
  },
  {
   "cell_type": "code",
   "execution_count": 4,
   "metadata": {},
   "outputs": [],
   "source": [
    "y = df[\"Survived\"].values\n",
    "x = df.drop([\"Survived\", \"S\", \"norm_fare\", \"male\", \"third_class\"], axis=1)"
   ]
  },
  {
   "cell_type": "code",
   "execution_count": 5,
   "metadata": {},
   "outputs": [],
   "source": [
    "from sklearn.model_selection import train_test_split\n",
    "x_train, x_test, y_train, y_test = train_test_split(x, y, test_size=0.2, random_state=42)"
   ]
  },
  {
   "cell_type": "code",
   "execution_count": 6,
   "metadata": {},
   "outputs": [
    {
     "data": {
      "text/plain": [
       "<matplotlib.axes._subplots.AxesSubplot at 0x7f97ee2f2d30>"
      ]
     },
     "execution_count": 6,
     "metadata": {},
     "output_type": "execute_result"
    },
    {
     "data": {
      "image/png": "[encoded data removed]",
      "text/plain": [
       "<Figure size 432x288 with 2 Axes>"
      ]
     },
     "metadata": {
      "needs_background": "light"
     },
     "output_type": "display_data"
    }
   ],
   "source": [
    "import seaborn as sns\n",
    "import matplotlib.pyplot as plt\n",
    "sns.heatmap(x.corr(), cmap=\"YlGnBu\", annot=True, fmt='.1g', vmin=0)"
   ]
  },
  {
   "cell_type": "code",
   "execution_count": 7,
   "metadata": {},
   "outputs": [],
   "source": [
    "import statsmodels.api as sm"
   ]
  },
  {
   "cell_type": "code",
   "execution_count": 8,
   "metadata": {},
   "outputs": [
    {
     "name": "stdout",
     "output_type": "stream",
     "text": [
      "Optimization terminated successfully.    (Exit mode 0)\n",
      "            Current function value: 0.4428497913556105\n",
      "            Iterations: 56\n",
      "            Function evaluations: 56\n",
      "            Gradient evaluations: 56\n"
     ]
    }
   ],
   "source": [
    "x_sm = sm.add_constant(x_train)\n",
    "logit_model = sm.Logit(y_train, x_sm)\n",
    "logit_res = logit_model.fit_regularized()"
   ]
  },
  {
   "cell_type": "code",
   "execution_count": 9,
   "metadata": {},
   "outputs": [
    {
     "data": {
      "text/html": [
       "<table class=\"simpletable\">\n",
       "<caption>Logit Regression Results</caption>\n",
       "<tr>\n",
       "  <th>Dep. Variable:</th>           <td>y</td>        <th>  No. Observations:  </th>  <td>   569</td>  \n",
       "</tr>\n",
       "<tr>\n",
       "  <th>Model:</th>                 <td>Logit</td>      <th>  Df Residuals:      </th>  <td>   560</td>  \n",
       "</tr>\n",
       "<tr>\n",
       "  <th>Method:</th>                 <td>MLE</td>       <th>  Df Model:          </th>  <td>     8</td>  \n",
       "</tr>\n",
       "<tr>\n",
       "  <th>Date:</th>            <td>Wed, 17 Jun 2020</td> <th>  Pseudo R-squ.:     </th>  <td>0.3401</td>  \n",
       "</tr>\n",
       "<tr>\n",
       "  <th>Time:</th>                <td>23:35:31</td>     <th>  Log-Likelihood:    </th> <td> -251.98</td> \n",
       "</tr>\n",
       "<tr>\n",
       "  <th>converged:</th>             <td>True</td>       <th>  LL-Null:           </th> <td> -381.86</td> \n",
       "</tr>\n",
       "<tr>\n",
       "  <th>Covariance Type:</th>     <td>nonrobust</td>    <th>  LLR p-value:       </th> <td>1.462e-51</td>\n",
       "</tr>\n",
       "</table>\n",
       "<table class=\"simpletable\">\n",
       "<tr>\n",
       "        <td></td>          <th>coef</th>     <th>std err</th>      <th>z</th>      <th>P>|z|</th>  <th>[0.025</th>    <th>0.975]</th>  \n",
       "</tr>\n",
       "<tr>\n",
       "  <th>const</th>        <td>   -1.9035</td> <td>    0.307</td> <td>   -6.210</td> <td> 0.000</td> <td>   -2.504</td> <td>   -1.303</td>\n",
       "</tr>\n",
       "<tr>\n",
       "  <th>female</th>       <td>    2.6775</td> <td>    0.250</td> <td>   10.705</td> <td> 0.000</td> <td>    2.187</td> <td>    3.168</td>\n",
       "</tr>\n",
       "<tr>\n",
       "  <th>first_class</th>  <td>    2.5131</td> <td>    0.339</td> <td>    7.421</td> <td> 0.000</td> <td>    1.849</td> <td>    3.177</td>\n",
       "</tr>\n",
       "<tr>\n",
       "  <th>second_class</th> <td>    1.3115</td> <td>    0.283</td> <td>    4.631</td> <td> 0.000</td> <td>    0.756</td> <td>    1.867</td>\n",
       "</tr>\n",
       "<tr>\n",
       "  <th>C</th>            <td>    0.2826</td> <td>    0.309</td> <td>    0.913</td> <td> 0.361</td> <td>   -0.324</td> <td>    0.889</td>\n",
       "</tr>\n",
       "<tr>\n",
       "  <th>Q</th>            <td>   -0.2738</td> <td>    0.662</td> <td>   -0.413</td> <td> 0.679</td> <td>   -1.572</td> <td>    1.024</td>\n",
       "</tr>\n",
       "<tr>\n",
       "  <th>norm_age</th>     <td>   -1.2630</td> <td>    0.464</td> <td>   -2.719</td> <td> 0.007</td> <td>   -2.173</td> <td>   -0.353</td>\n",
       "</tr>\n",
       "<tr>\n",
       "  <th>norm_sib_sp</th>  <td>   -0.2284</td> <td>    0.313</td> <td>   -0.730</td> <td> 0.466</td> <td>   -0.842</td> <td>    0.385</td>\n",
       "</tr>\n",
       "<tr>\n",
       "  <th>norm_parch</th>   <td>    0.0351</td> <td>    0.336</td> <td>    0.105</td> <td> 0.917</td> <td>   -0.623</td> <td>    0.693</td>\n",
       "</tr>\n",
       "</table>"
      ],
      "text/plain": [
       "<class 'statsmodels.iolib.summary.Summary'>\n",
       "\"\"\"\n",
       "                           Logit Regression Results                           \n",
       "==============================================================================\n",
       "Dep. Variable:                      y   No. Observations:                  569\n",
       "Model:                          Logit   Df Residuals:                      560\n",
       "Method:                           MLE   Df Model:                            8\n",
       "Date:                Wed, 17 Jun 2020   Pseudo R-squ.:                  0.3401\n",
       "Time:                        23:35:31   Log-Likelihood:                -251.98\n",
       "converged:                       True   LL-Null:                       -381.86\n",
       "Covariance Type:            nonrobust   LLR p-value:                 1.462e-51\n",
       "================================================================================\n",
       "                   coef    std err          z      P>|z|      [0.025      0.975]\n",
       "--------------------------------------------------------------------------------\n",
       "const           -1.9035      0.307     -6.210      0.000      -2.504      -1.303\n",
       "female           2.6775      0.250     10.705      0.000       2.187       3.168\n",
       "first_class      2.5131      0.339      7.421      0.000       1.849       3.177\n",
       "second_class     1.3115      0.283      4.631      0.000       0.756       1.867\n",
       "C                0.2826      0.309      0.913      0.361      -0.324       0.889\n",
       "Q               -0.2738      0.662     -0.413      0.679      -1.572       1.024\n",
       "norm_age        -1.2630      0.464     -2.719      0.007      -2.173      -0.353\n",
       "norm_sib_sp     -0.2284      0.313     -0.730      0.466      -0.842       0.385\n",
       "norm_parch       0.0351      0.336      0.105      0.917      -0.623       0.693\n",
       "================================================================================\n",
       "\"\"\""
      ]
     },
     "execution_count": 9,
     "metadata": {},
     "output_type": "execute_result"
    }
   ],
   "source": [
    "logit_res.summary()"
   ]
  },
  {
   "cell_type": "code",
   "execution_count": 10,
   "metadata": {},
   "outputs": [],
   "source": [
    "from sklearn.metrics import classification_report"
   ]
  },
  {
   "cell_type": "code",
   "execution_count": 11,
   "metadata": {},
   "outputs": [
    {
     "name": "stdout",
     "output_type": "stream",
     "text": [
      "              precision    recall  f1-score   support\n",
      "\n",
      "           0       0.77      0.90      0.83        80\n",
      "           1       0.84      0.67      0.74        63\n",
      "\n",
      "    accuracy                           0.80       143\n",
      "   macro avg       0.81      0.78      0.79       143\n",
      "weighted avg       0.80      0.80      0.79       143\n",
      "\n"
     ]
    }
   ],
   "source": [
    "x_test_sm = sm.add_constant(x_test)\n",
    "y_test_pred_sm = logit_res.predict(x_test_sm).round().values\n",
    "report = classification_report(y_test, y_test_pred_sm)\n",
    "print(report)"
   ]
  },
  {
   "cell_type": "code",
   "execution_count": 12,
   "metadata": {},
   "outputs": [
    {
     "name": "stdout",
     "output_type": "stream",
     "text": [
      "              precision    recall  f1-score   support\n",
      "\n",
      "           0       0.82      0.85      0.84       344\n",
      "           1       0.76      0.72      0.74       225\n",
      "\n",
      "    accuracy                           0.80       569\n",
      "   macro avg       0.79      0.79      0.79       569\n",
      "weighted avg       0.80      0.80      0.80       569\n",
      "\n"
     ]
    }
   ],
   "source": [
    "y_train_pred_sm = logit_res.predict(x_sm).round().values\n",
    "report = classification_report(y_train, y_train_pred_sm)\n",
    "print(report)"
   ]
  },
  {
   "cell_type": "code",
   "execution_count": 13,
   "metadata": {},
   "outputs": [],
   "source": [
    "import sklearn.linear_model as lm"
   ]
  },
  {
   "cell_type": "code",
   "execution_count": 14,
   "metadata": {},
   "outputs": [
    {
     "name": "stdout",
     "output_type": "stream",
     "text": [
      "              precision    recall  f1-score   support\n",
      "\n",
      "           0       0.77      0.90      0.83        80\n",
      "           1       0.84      0.65      0.73        63\n",
      "\n",
      "    accuracy                           0.79       143\n",
      "   macro avg       0.80      0.78      0.78       143\n",
      "weighted avg       0.80      0.79      0.79       143\n",
      "\n"
     ]
    }
   ],
   "source": [
    "lr_model = lm.LogisticRegression()\n",
    "lr_model.fit(x_train, y_train)\n",
    "y_test_pred_lr = lr_model.predict(x_test)\n",
    "print(classification_report(y_test, y_test_pred_lr))"
   ]
  },
  {
   "cell_type": "code",
   "execution_count": 15,
   "metadata": {},
   "outputs": [
    {
     "name": "stdout",
     "output_type": "stream",
     "text": [
      "              precision    recall  f1-score   support\n",
      "\n",
      "           0       0.82      0.85      0.83       344\n",
      "           1       0.76      0.71      0.73       225\n",
      "\n",
      "    accuracy                           0.80       569\n",
      "   macro avg       0.79      0.78      0.78       569\n",
      "weighted avg       0.79      0.80      0.79       569\n",
      "\n"
     ]
    }
   ],
   "source": [
    "y_train_pred_lr = lr_model.predict(x_train)\n",
    "print(classification_report(y_train, y_train_pred_lr))"
   ]
  },
  {
   "cell_type": "code",
   "execution_count": 16,
   "metadata": {},
   "outputs": [],
   "source": [
    "import sklearn.preprocessing as sk_pre"
   ]
  },
  {
   "cell_type": "code",
   "execution_count": 17,
   "metadata": {},
   "outputs": [],
   "source": [
    "x_train_lr_h = sk_pre.PolynomialFeatures(2).fit_transform(x_train)\n",
    "x_test_lr_h = sk_pre.PolynomialFeatures(2).fit_transform(x_test)"
   ]
  },
  {
   "cell_type": "code",
   "execution_count": 18,
   "metadata": {},
   "outputs": [
    {
     "data": {
      "text/plain": [
       "LogisticRegression(fit_intercept=False)"
      ]
     },
     "execution_count": 18,
     "metadata": {},
     "output_type": "execute_result"
    }
   ],
   "source": [
    "lr_model_h = lm.LogisticRegression(fit_intercept=False)\n",
    "lr_model_h.fit(x_train_lr_h, y_train)"
   ]
  },
  {
   "cell_type": "code",
   "execution_count": 19,
   "metadata": {},
   "outputs": [
    {
     "name": "stdout",
     "output_type": "stream",
     "text": [
      "              precision    recall  f1-score   support\n",
      "\n",
      "           0       0.77      0.91      0.83        80\n",
      "           1       0.85      0.65      0.74        63\n",
      "\n",
      "    accuracy                           0.80       143\n",
      "   macro avg       0.81      0.78      0.79       143\n",
      "weighted avg       0.81      0.80      0.79       143\n",
      "\n"
     ]
    }
   ],
   "source": [
    "y_test_pred_lr_h = lr_model_h.predict(x_test_lr_h)\n",
    "print(classification_report(y_test, y_test_pred_lr_h))"
   ]
  },
  {
   "cell_type": "code",
   "execution_count": 20,
   "metadata": {},
   "outputs": [
    {
     "name": "stdout",
     "output_type": "stream",
     "text": [
      "              precision    recall  f1-score   support\n",
      "\n",
      "           0       0.81      0.90      0.85       344\n",
      "           1       0.82      0.68      0.74       225\n",
      "\n",
      "    accuracy                           0.81       569\n",
      "   macro avg       0.81      0.79      0.80       569\n",
      "weighted avg       0.81      0.81      0.81       569\n",
      "\n"
     ]
    }
   ],
   "source": [
    "y_train_pred_lr_h = lr_model_h.predict(x_train_lr_h)\n",
    "print(classification_report(y_train, y_train_pred_lr_h))"
   ]
  },
  {
   "cell_type": "code",
   "execution_count": 21,
   "metadata": {},
   "outputs": [
    {
     "data": {
      "text/plain": [
       "LogisticRegressionCV()"
      ]
     },
     "execution_count": 21,
     "metadata": {},
     "output_type": "execute_result"
    }
   ],
   "source": [
    "lrc_model = lm.LogisticRegressionCV()\n",
    "lrc_model.fit(x_train, y_train) "
   ]
  },
  {
   "cell_type": "code",
   "execution_count": 22,
   "metadata": {},
   "outputs": [
    {
     "name": "stdout",
     "output_type": "stream",
     "text": [
      "              precision    recall  f1-score   support\n",
      "\n",
      "           0       0.77      0.90      0.83        80\n",
      "           1       0.84      0.67      0.74        63\n",
      "\n",
      "    accuracy                           0.80       143\n",
      "   macro avg       0.81      0.78      0.79       143\n",
      "weighted avg       0.80      0.80      0.79       143\n",
      "\n"
     ]
    }
   ],
   "source": [
    "y_test_pred_lrc = lrc_model.predict(x_test)\n",
    "print(classification_report(y_test, y_test_pred_lrc))"
   ]
  },
  {
   "cell_type": "code",
   "execution_count": 23,
   "metadata": {},
   "outputs": [
    {
     "name": "stdout",
     "output_type": "stream",
     "text": [
      "              precision    recall  f1-score   support\n",
      "\n",
      "           0       0.82      0.85      0.84       344\n",
      "           1       0.76      0.72      0.74       225\n",
      "\n",
      "    accuracy                           0.80       569\n",
      "   macro avg       0.79      0.79      0.79       569\n",
      "weighted avg       0.80      0.80      0.80       569\n",
      "\n"
     ]
    }
   ],
   "source": [
    "y_train_pred_lrc = lrc_model.predict(x_train)\n",
    "print(classification_report(y_train, y_train_pred_lrc))"
   ]
  },
  {
   "cell_type": "code",
   "execution_count": 24,
   "metadata": {},
   "outputs": [],
   "source": [
    "import sklearn.ensemble as sk_ens"
   ]
  },
  {
   "cell_type": "code",
   "execution_count": 25,
   "metadata": {},
   "outputs": [
    {
     "data": {
      "text/plain": [
       "RandomForestClassifier(max_depth=3, n_jobs=2)"
      ]
     },
     "execution_count": 25,
     "metadata": {},
     "output_type": "execute_result"
    }
   ],
   "source": [
    "rfc_model = sk_ens.RandomForestClassifier(max_depth=3, n_jobs=2)\n",
    "rfc_model.fit(x_train, y_train)"
   ]
  },
  {
   "cell_type": "code",
   "execution_count": 26,
   "metadata": {},
   "outputs": [
    {
     "name": "stdout",
     "output_type": "stream",
     "text": [
      "              precision    recall  f1-score   support\n",
      "\n",
      "           0       0.74      0.90      0.81        80\n",
      "           1       0.83      0.60      0.70        63\n",
      "\n",
      "    accuracy                           0.77       143\n",
      "   macro avg       0.78      0.75      0.76       143\n",
      "weighted avg       0.78      0.77      0.76       143\n",
      "\n"
     ]
    }
   ],
   "source": [
    "y_test_pred_rfc = rfc_model.predict(x_test)\n",
    "print(classification_report(y_test, y_test_pred_rfc))"
   ]
  },
  {
   "cell_type": "code",
   "execution_count": 27,
   "metadata": {},
   "outputs": [
    {
     "name": "stdout",
     "output_type": "stream",
     "text": [
      "              precision    recall  f1-score   support\n",
      "\n",
      "           0       0.80      0.94      0.86       344\n",
      "           1       0.87      0.64      0.73       225\n",
      "\n",
      "    accuracy                           0.82       569\n",
      "   macro avg       0.83      0.79      0.80       569\n",
      "weighted avg       0.82      0.82      0.81       569\n",
      "\n"
     ]
    }
   ],
   "source": [
    "y_train_pred_rfc = rfc_model.predict(x_train)\n",
    "print(classification_report(y_train, y_train_pred_rfc))"
   ]
  },
  {
   "cell_type": "code",
   "execution_count": 28,
   "metadata": {},
   "outputs": [
    {
     "data": {
      "text/plain": [
       "RandomForestClassifier(max_depth=3, n_jobs=2)"
      ]
     },
     "execution_count": 28,
     "metadata": {},
     "output_type": "execute_result"
    }
   ],
   "source": [
    "rfc_model_h = sk_ens.RandomForestClassifier(max_depth=3, n_jobs=2)\n",
    "rfc_model_h.fit(x_train_lr_h, y_train)"
   ]
  },
  {
   "cell_type": "code",
   "execution_count": 29,
   "metadata": {},
   "outputs": [
    {
     "name": "stdout",
     "output_type": "stream",
     "text": [
      "              precision    recall  f1-score   support\n",
      "\n",
      "           0       0.74      0.88      0.80        80\n",
      "           1       0.80      0.62      0.70        63\n",
      "\n",
      "    accuracy                           0.76       143\n",
      "   macro avg       0.77      0.75      0.75       143\n",
      "weighted avg       0.77      0.76      0.76       143\n",
      "\n"
     ]
    }
   ],
   "source": [
    "y_test_pred_rfc_h = rfc_model_h.predict(x_test_lr_h)\n",
    "print(classification_report(y_test, y_test_pred_rfc_h))"
   ]
  },
  {
   "cell_type": "code",
   "execution_count": 30,
   "metadata": {},
   "outputs": [
    {
     "name": "stdout",
     "output_type": "stream",
     "text": [
      "              precision    recall  f1-score   support\n",
      "\n",
      "           0       0.81      0.89      0.85       344\n",
      "           1       0.80      0.68      0.74       225\n",
      "\n",
      "    accuracy                           0.81       569\n",
      "   macro avg       0.80      0.79      0.79       569\n",
      "weighted avg       0.81      0.81      0.80       569\n",
      "\n"
     ]
    }
   ],
   "source": [
    "y_train_pred_rfc_h = rfc_model_h.predict(x_train_lr_h)\n",
    "print(classification_report(y_train, y_train_pred_rfc_h))"
   ]
  },
  {
   "cell_type": "code",
   "execution_count": 31,
   "metadata": {},
   "outputs": [],
   "source": [
    "from sklearn.model_selection import learning_curve\n",
    "train_sizes = {}\n",
    "train_scores = {}\n",
    "test_scores = {}"
   ]
  },
  {
   "cell_type": "code",
   "execution_count": 32,
   "metadata": {},
   "outputs": [],
   "source": [
    "train_sizes[\"lr\"], train_scores[\"lr\"], test_scores[\"lr\"] = learning_curve(lr_model, x, y, n_jobs=2)\n",
    "train_scores[\"lr\"] = np.mean(train_scores[\"lr\"], axis=1)\n",
    "test_scores[\"lr\"] = np.mean(test_scores[\"lr\"], axis=1)"
   ]
  },
  {
   "cell_type": "code",
   "execution_count": 33,
   "metadata": {},
   "outputs": [],
   "source": [
    "train_sizes[\"lr_h\"], train_scores[\"lr_h\"], test_scores[\"lr_h\"] = learning_curve(lr_model_h, x, y, n_jobs=2)\n",
    "train_scores[\"lr_h\"] = np.mean(train_scores[\"lr_h\"], axis=1)\n",
    "test_scores[\"lr_h\"] = np.mean(test_scores[\"lr_h\"], axis=1)"
   ]
  },
  {
   "cell_type": "code",
   "execution_count": 34,
   "metadata": {},
   "outputs": [],
   "source": [
    "train_sizes[\"lrc\"], train_scores[\"lrc\"], test_scores[\"lrc\"] = learning_curve(lrc_model, x, y, n_jobs=2)\n",
    "train_scores[\"lrc\"] = np.mean(train_scores[\"lrc\"], axis=1)\n",
    "test_scores[\"lrc\"] = np.mean(test_scores[\"lrc\"], axis=1)"
   ]
  },
  {
   "cell_type": "code",
   "execution_count": 35,
   "metadata": {},
   "outputs": [],
   "source": [
    "train_sizes[\"rfc\"], train_scores[\"rfc\"], test_scores[\"rfc\"] = learning_curve(rfc_model, x, y, n_jobs=2)\n",
    "train_scores[\"rfc\"] = np.mean(train_scores[\"rfc\"], axis=1)\n",
    "test_scores[\"rfc\"] = np.mean(test_scores[\"rfc\"], axis=1)"
   ]
  },
  {
   "cell_type": "code",
   "execution_count": 36,
   "metadata": {},
   "outputs": [],
   "source": [
    "train_sizes[\"rfc_h\"], train_scores[\"rfc_h\"], test_scores[\"rfc_h\"] = learning_curve(rfc_model_h, sk_pre.PolynomialFeatures(2).fit_transform(x), y, n_jobs=2)\n",
    "train_scores[\"rfc_h\"] = np.mean(train_scores[\"rfc_h\"], axis=1)\n",
    "test_scores[\"rfc_h\"] = np.mean(test_scores[\"rfc_h\"], axis=1)"
   ]
  },
  {
   "cell_type": "code",
   "execution_count": 37,
   "metadata": {},
   "outputs": [
    {
     "name": "stdout",
     "output_type": "stream",
     "text": [
      "lr\n"
     ]
    },
    {
     "data": {
      "image/png": "[encoded data removed]",
      "text/plain": [
       "<Figure size 432x288 with 1 Axes>"
      ]
     },
     "metadata": {
      "needs_background": "light"
     },
     "output_type": "display_data"
    },
    {
     "name": "stdout",
     "output_type": "stream",
     "text": [
      "\n",
      "lr_h\n"
     ]
    },
    {
     "data": {
      "image/png": "[encoded data removed]",
      "text/plain": [
       "<Figure size 432x288 with 1 Axes>"
      ]
     },
     "metadata": {
      "needs_background": "light"
     },
     "output_type": "display_data"
    },
    {
     "name": "stdout",
     "output_type": "stream",
     "text": [
      "\n",
      "lrc\n"
     ]
    },
    {
     "data": {
      "image/png": "[encoded data removed]",
      "text/plain": [
       "<Figure size 432x288 with 1 Axes>"
      ]
     },
     "metadata": {
      "needs_background": "light"
     },
     "output_type": "display_data"
    },
    {
     "name": "stdout",
     "output_type": "stream",
     "text": [
      "\n",
      "rfc\n"
     ]
    },
    {
     "data": {
      "image/png": "[encoded data removed]",
      "text/plain": [
       "<Figure size 432x288 with 1 Axes>"
      ]
     },
     "metadata": {
      "needs_background": "light"
     },
     "output_type": "display_data"
    },
    {
     "name": "stdout",
     "output_type": "stream",
     "text": [
      "\n",
      "rfc_h\n"
     ]
    },
    {
     "data": {
      "image/png": "[encoded data removed]",
      "text/plain": [
       "<Figure size 432x288 with 1 Axes>"
      ]
     },
     "metadata": {
      "needs_background": "light"
     },
     "output_type": "display_data"
    },
    {
     "name": "stdout",
     "output_type": "stream",
     "text": [
      "\n"
     ]
    }
   ],
   "source": [
    "for key in train_sizes:\n",
    "    print(key)\n",
    "    plt.plot(train_sizes[key], train_scores[key], \"r\", label=\"train\")\n",
    "    plt.plot(train_sizes[key], test_scores[key], \"b\", label=\"test\")\n",
    "    plt.legend()\n",
    "    plt.show()\n",
    "    print()"
   ]
  },
  {
   "cell_type": "code",
   "execution_count": 38,
   "metadata": {},
   "outputs": [],
   "source": [
    "accuracies = {\n",
    "    \"lr\": {\"train\": np.mean(y_train == y_train_pred_lr).round(3), \"test\": np.mean(y_test == y_test_pred_lr).round(3)},\n",
    "    \"lr_h\": {\"train\": np.mean(y_train == y_train_pred_lr_h).round(3), \"test\": np.mean(y_test == y_test_pred_lr_h).round(3)},\n",
    "    \"lrc\": {\"train\": np.mean(y_train == y_train_pred_lrc).round(3), \"test\": np.mean(y_test == y_test_pred_lrc).round(3)},\n",
    "    \"rfc\": {\"train\": np.mean(y_train == y_train_pred_rfc).round(3), \"test\": np.mean(y_test == y_test_pred_rfc).round(3)},\n",
    "    \"rfc_h\": {\"train\": np.mean(y_train == y_train_pred_rfc_h).round(3), \"test\": np.mean(y_test == y_test_pred_rfc_h).round(3)}\n",
    "}"
   ]
  },
  {
   "cell_type": "code",
   "execution_count": 39,
   "metadata": {},
   "outputs": [
    {
     "name": "stdout",
     "output_type": "stream",
     "text": [
      "lr\n",
      "{'train': 0.796, 'test': 0.79, 'all': 0.793}\n",
      "lr_h\n",
      "{'train': 0.814, 'test': 0.797, 'all': 0.806}\n",
      "lrc\n",
      "{'train': 0.8, 'test': 0.797, 'all': 0.798}\n",
      "rfc\n",
      "{'train': 0.817, 'test': 0.769, 'all': 0.793}\n",
      "rfc_h\n",
      "{'train': 0.807, 'test': 0.762, 'all': 0.784}\n"
     ]
    }
   ],
   "source": [
    "for key in accuracies:\n",
    "    accuracies[key][\"all\"] = np.mean([accuracies[key][\"train\"], accuracies[key][\"test\"]]).round(3)\n",
    "    print(key)\n",
    "    print(accuracies[key])"
   ]
  },
  {
   "cell_type": "code",
   "execution_count": 40,
   "metadata": {},
   "outputs": [],
   "source": [
    "from sklearn.model_selection import GridSearchCV"
   ]
  },
  {
   "cell_type": "code",
   "execution_count": 41,
   "metadata": {},
   "outputs": [
    {
     "data": {
      "text/plain": [
       "(0.7926564198105883, {'C': 0.7610344827586207})"
      ]
     },
     "execution_count": 41,
     "metadata": {},
     "output_type": "execute_result"
    }
   ],
   "source": [
    "gsc_model = GridSearchCV(lr_model_h, {\"C\": np.linspace(0.01, 1, 30)})\n",
    "gsc_model.fit(x_train_lr_h, y_train)\n",
    "gsc_model.best_score_, gsc_model.best_params_"
   ]
  },
  {
   "cell_type": "code",
   "execution_count": 42,
   "metadata": {},
   "outputs": [
    {
     "name": "stdout",
     "output_type": "stream",
     "text": [
      "              precision    recall  f1-score   support\n",
      "\n",
      "           0       0.77      0.91      0.83        80\n",
      "           1       0.85      0.65      0.74        63\n",
      "\n",
      "    accuracy                           0.80       143\n",
      "   macro avg       0.81      0.78      0.79       143\n",
      "weighted avg       0.81      0.80      0.79       143\n",
      "\n"
     ]
    }
   ],
   "source": [
    "y_test_pred_gsc = gsc_model.predict(x_test_lr_h)\n",
    "print(classification_report(y_test, y_test_pred_gsc))"
   ]
  },
  {
   "cell_type": "code",
   "execution_count": 43,
   "metadata": {},
   "outputs": [
    {
     "name": "stdout",
     "output_type": "stream",
     "text": [
      "              precision    recall  f1-score   support\n",
      "\n",
      "           0       0.81      0.90      0.85       344\n",
      "           1       0.82      0.68      0.74       225\n",
      "\n",
      "    accuracy                           0.81       569\n",
      "   macro avg       0.81      0.79      0.80       569\n",
      "weighted avg       0.81      0.81      0.81       569\n",
      "\n"
     ]
    }
   ],
   "source": [
    "y_train_pred_gsc = gsc_model.predict(x_train_lr_h)\n",
    "print(classification_report(y_train, y_train_pred_gsc))"
   ]
  },
  {
   "cell_type": "code",
   "execution_count": 44,
   "metadata": {},
   "outputs": [
    {
     "data": {
      "text/plain": [
       "(0.8102002794597112, {'max_depth': 6})"
      ]
     },
     "execution_count": 44,
     "metadata": {},
     "output_type": "execute_result"
    }
   ],
   "source": [
    "gsc_rf_model = GridSearchCV(rfc_model, {'max_depth': range(1,7)})\n",
    "gsc_rf_model.fit(x_train, y_train)\n",
    "gsc_rf_model.best_score_, gsc_rf_model.best_params_"
   ]
  },
  {
   "cell_type": "code",
   "execution_count": 45,
   "metadata": {},
   "outputs": [
    {
     "name": "stdout",
     "output_type": "stream",
     "text": [
      "              precision    recall  f1-score   support\n",
      "\n",
      "           0       0.81      0.89      0.85        80\n",
      "           1       0.84      0.73      0.78        63\n",
      "\n",
      "    accuracy                           0.82       143\n",
      "   macro avg       0.82      0.81      0.81       143\n",
      "weighted avg       0.82      0.82      0.82       143\n",
      "\n"
     ]
    }
   ],
   "source": [
    "y_test_pred_gsc_rf = gsc_rf_model.predict(x_test)\n",
    "print(classification_report(y_test, y_test_pred_gsc_rf))"
   ]
  },
  {
   "cell_type": "code",
   "execution_count": 46,
   "metadata": {},
   "outputs": [
    {
     "name": "stdout",
     "output_type": "stream",
     "text": [
      "              precision    recall  f1-score   support\n",
      "\n",
      "           0       0.85      0.94      0.89       344\n",
      "           1       0.89      0.75      0.81       225\n",
      "\n",
      "    accuracy                           0.86       569\n",
      "   macro avg       0.87      0.84      0.85       569\n",
      "weighted avg       0.87      0.86      0.86       569\n",
      "\n"
     ]
    }
   ],
   "source": [
    "y_train_pred_gsc_rf = gsc_rf_model.predict(x_train)\n",
    "print(classification_report(y_train, y_train_pred_gsc_rf))"
   ]
  },
  {
   "cell_type": "code",
   "execution_count": 47,
   "metadata": {},
   "outputs": [],
   "source": [
    "from sklearn.kernel_approximation import RBFSampler"
   ]
  },
  {
   "cell_type": "code",
   "execution_count": 48,
   "metadata": {},
   "outputs": [],
   "source": [
    "all_results = []\n",
    "for gamma in np.linspace(0.1, 1, 50):\n",
    "    rbf_sampler = RBFSampler(gamma=gamma)\n",
    "    t_model = lm.LogisticRegression(C=0.08, n_jobs=2)\n",
    "    t_model.fit(rbf_sampler.fit_transform(x_train), y_train)\n",
    "    all_results.append({\"gamma\": gamma, \"test\": t_model.score(rbf_sampler.transform(x_test), y_test), \"train\": t_model.score(rbf_sampler.transform(x_train), y_train)})"
   ]
  },
  {
   "cell_type": "code",
   "execution_count": 49,
   "metadata": {},
   "outputs": [],
   "source": [
    "ar_df = pd.DataFrame(all_results)"
   ]
  },
  {
   "cell_type": "code",
   "execution_count": 50,
   "metadata": {},
   "outputs": [
    {
     "data": {
      "image/png": "[encoded data removed]",
      "text/plain": [
       "<Figure size 432x288 with 1 Axes>"
      ]
     },
     "metadata": {
      "needs_background": "light"
     },
     "output_type": "display_data"
    }
   ],
   "source": [
    "plt.plot(ar_df[\"gamma\"], ar_df[\"test\"], \"b\", label=\"test\")\n",
    "plt.plot(ar_df[\"gamma\"], ar_df[\"train\"], \"r\", label=\"train\")\n",
    "plt.legend()\n",
    "plt.show()"
   ]
  },
  {
   "cell_type": "code",
   "execution_count": 51,
   "metadata": {},
   "outputs": [
    {
     "data": {
      "text/plain": [
       "gamma    1.000000\n",
       "test     0.783217\n",
       "train    0.811951\n",
       "dtype: float64"
      ]
     },
     "execution_count": 51,
     "metadata": {},
     "output_type": "execute_result"
    }
   ],
   "source": [
    "ar_df.max()"
   ]
  },
  {
   "cell_type": "code",
   "execution_count": 52,
   "metadata": {},
   "outputs": [
    {
     "data": {
      "text/plain": [
       "gamma    49\n",
       "test     46\n",
       "train    21\n",
       "dtype: int64"
      ]
     },
     "execution_count": 52,
     "metadata": {},
     "output_type": "execute_result"
    }
   ],
   "source": [
    "ar_df.idxmax()"
   ]
  },
  {
   "cell_type": "code",
   "execution_count": 53,
   "metadata": {},
   "outputs": [
    {
     "data": {
      "text/plain": [
       "(gamma    0.338776\n",
       " test     0.748252\n",
       " train    0.796134\n",
       " Name: 13, dtype: float64,\n",
       " gamma    0.632653\n",
       " test     0.755245\n",
       " train    0.792619\n",
       " Name: 29, dtype: float64)"
      ]
     },
     "execution_count": 53,
     "metadata": {},
     "output_type": "execute_result"
    }
   ],
   "source": [
    "ar_df.iloc[13], ar_df.iloc[29]"
   ]
  },
  {
   "cell_type": "code",
   "execution_count": 54,
   "metadata": {},
   "outputs": [
    {
     "name": "stdout",
     "output_type": "stream",
     "text": [
      "              precision    recall  f1-score   support\n",
      "\n",
      "           0       0.69      0.94      0.79        80\n",
      "           1       0.85      0.46      0.60        63\n",
      "\n",
      "    accuracy                           0.73       143\n",
      "   macro avg       0.77      0.70      0.70       143\n",
      "weighted avg       0.76      0.73      0.71       143\n",
      "\n"
     ]
    }
   ],
   "source": [
    "y_test_pred_t = t_model.predict(rbf_sampler.transform(x_test))\n",
    "print(classification_report(y_test, y_test_pred_t))"
   ]
  },
  {
   "cell_type": "code",
   "execution_count": 55,
   "metadata": {},
   "outputs": [
    {
     "name": "stdout",
     "output_type": "stream",
     "text": [
      "              precision    recall  f1-score   support\n",
      "\n",
      "           0       0.74      0.96      0.83       344\n",
      "           1       0.88      0.48      0.62       225\n",
      "\n",
      "    accuracy                           0.77       569\n",
      "   macro avg       0.81      0.72      0.73       569\n",
      "weighted avg       0.79      0.77      0.75       569\n",
      "\n"
     ]
    }
   ],
   "source": [
    "y_train_pred_t = t_model.predict(rbf_sampler.transform(x_train))\n",
    "print(classification_report(y_train, y_train_pred_t))"
   ]
  },
  {
   "cell_type": "code",
   "execution_count": 56,
   "metadata": {},
   "outputs": [],
   "source": [
    "import sklearn.neural_network as sk_nn"
   ]
  },
  {
   "cell_type": "code",
   "execution_count": 100,
   "metadata": {},
   "outputs": [
    {
     "data": {
      "text/plain": [
       "MLPClassifier(hidden_layer_sizes=(256, 512, 256), max_iter=300, warm_start=True)"
      ]
     },
     "execution_count": 100,
     "metadata": {},
     "output_type": "execute_result"
    }
   ],
   "source": [
    "mlp_model = sk_nn.MLPClassifier(hidden_layer_sizes=(256, 512, 256), activation=\"relu\", warm_start=True, max_iter=300)\n",
    "mlp_model.fit(x_train, y_train)"
   ]
  },
  {
   "cell_type": "code",
   "execution_count": 104,
   "metadata": {},
   "outputs": [
    {
     "name": "stdout",
     "output_type": "stream",
     "text": [
      "              precision    recall  f1-score   support\n",
      "\n",
      "           0       0.86      0.89      0.88       424\n",
      "           1       0.83      0.78      0.81       288\n",
      "\n",
      "    accuracy                           0.85       712\n",
      "   macro avg       0.85      0.84      0.84       712\n",
      "weighted avg       0.85      0.85      0.85       712\n",
      "\n"
     ]
    }
   ],
   "source": [
    "y_test_pred_mlp = mlp_model.predict(x)\n",
    "print(classification_report(y, y_test_pred_mlp))"
   ]
  },
  {
   "cell_type": "code",
   "execution_count": null,
   "metadata": {},
   "outputs": [],
   "source": []
  }
 ],
 "metadata": {
  "kernelspec": {
   "display_name": "Python 3",
   "language": "python",
   "name": "python3"
  },
  "language_info": {
   "codemirror_mode": {
    "name": "ipython",
    "version": 3
   },
   "file_extension": ".py",
   "mimetype": "text/x-python",
   "name": "python",
   "nbconvert_exporter": "python",
   "pygments_lexer": "ipython3",
   "version": "3.8.0"
  }
 },
 "nbformat": 4,
 "nbformat_minor": 4
}
